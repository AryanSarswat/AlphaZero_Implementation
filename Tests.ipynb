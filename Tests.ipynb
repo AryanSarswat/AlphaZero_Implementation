{
 "cells": [
  {
   "cell_type": "code",
   "execution_count": 1,
   "id": "c69c3bac",
   "metadata": {
    "ExecuteTime": {
     "end_time": "2022-06-16T03:15:46.455427Z",
     "start_time": "2022-06-16T03:15:46.409424Z"
    }
   },
   "outputs": [],
   "source": [
    "%load_ext autoreload"
   ]
  },
  {
   "cell_type": "code",
   "execution_count": 2,
   "id": "66795bc9",
   "metadata": {
    "ExecuteTime": {
     "end_time": "2022-06-16T03:15:46.471426Z",
     "start_time": "2022-06-16T03:15:46.456429Z"
    }
   },
   "outputs": [],
   "source": [
    "%autoreload 2"
   ]
  },
  {
   "cell_type": "code",
   "execution_count": 3,
   "id": "9baa57a8",
   "metadata": {
    "ExecuteTime": {
     "end_time": "2022-06-16T03:15:46.837503Z",
     "start_time": "2022-06-16T03:15:46.473448Z"
    }
   },
   "outputs": [],
   "source": [
    "from numba import prange"
   ]
  },
  {
   "cell_type": "code",
   "execution_count": 4,
   "id": "4b598a9f-40b8-47df-b714-8c04d4d1a857",
   "metadata": {
    "ExecuteTime": {
     "end_time": "2022-06-16T03:15:46.933452Z",
     "start_time": "2022-06-16T03:15:46.841465Z"
    }
   },
   "outputs": [],
   "source": [
    "from Tic_Tac_Toe.Board import *\n",
    "from Tic_Tac_Toe.Game import *\n",
    "from Tic_Tac_Toe.Human_Player import *\n",
    "from Tic_Tac_Toe.Random_agent import RandomAgent\n",
    "\n",
    "from MCTS import MCTS\n",
    "from tqdm.notebook import tqdm_notebook"
   ]
  },
  {
   "cell_type": "code",
   "execution_count": 5,
   "id": "988a154f-1328-4c15-afd9-a37fd87a7b95",
   "metadata": {
    "ExecuteTime": {
     "end_time": "2022-06-16T03:15:46.981422Z",
     "start_time": "2022-06-16T03:15:46.934424Z"
    }
   },
   "outputs": [],
   "source": [
    "b = Board(3)"
   ]
  },
  {
   "cell_type": "code",
   "execution_count": 6,
   "id": "06fc8558-fac4-4b14-a853-b836908ab4f6",
   "metadata": {
    "ExecuteTime": {
     "end_time": "2022-06-16T03:15:47.029422Z",
     "start_time": "2022-06-16T03:15:46.982423Z"
    }
   },
   "outputs": [
    {
     "data": {
      "text/plain": [
       "array([[0., 0., 0.],\n",
       "       [0., 0., 0.],\n",
       "       [0., 0., 0.]])"
      ]
     },
     "execution_count": 6,
     "metadata": {},
     "output_type": "execute_result"
    }
   ],
   "source": [
    "b.get_state()"
   ]
  },
  {
   "cell_type": "code",
   "execution_count": 7,
   "id": "c01854a2",
   "metadata": {
    "ExecuteTime": {
     "end_time": "2022-06-16T03:15:47.077492Z",
     "start_time": "2022-06-16T03:15:47.030422Z"
    }
   },
   "outputs": [],
   "source": [
    "t = MCTS.MCTS_Node(b)"
   ]
  },
  {
   "cell_type": "code",
   "execution_count": null,
   "id": "63f80485",
   "metadata": {
    "ExecuteTime": {
     "start_time": "2022-06-16T03:15:46.402Z"
    }
   },
   "outputs": [
    {
     "data": {
      "application/vnd.jupyter.widget-view+json": {
       "model_id": "7fba9f46fc7147ee9bda4619c0223de8",
       "version_major": 2,
       "version_minor": 0
      },
      "text/plain": [
       "  0%|          | 0/100 [00:00<?, ?it/s]"
      ]
     },
     "metadata": {},
     "output_type": "display_data"
    }
   ],
   "source": [
    "for _ in tqdm_notebook(prange(100)):\n",
    "    t.run(1000)"
   ]
  },
  {
   "cell_type": "code",
   "execution_count": null,
   "id": "3850a2c0",
   "metadata": {
    "ExecuteTime": {
     "start_time": "2022-06-16T03:15:53.552Z"
    }
   },
   "outputs": [],
   "source": [
    "t.children"
   ]
  },
  {
   "cell_type": "code",
   "execution_count": null,
   "id": "ff0e961f",
   "metadata": {},
   "outputs": [],
   "source": []
  }
 ],
 "metadata": {
  "kernelspec": {
   "display_name": "Python 3 (ipykernel)",
   "language": "python",
   "name": "python3"
  },
  "language_info": {
   "codemirror_mode": {
    "name": "ipython",
    "version": 3
   },
   "file_extension": ".py",
   "mimetype": "text/x-python",
   "name": "python",
   "nbconvert_exporter": "python",
   "pygments_lexer": "ipython3",
   "version": "3.9.7"
  },
  "varInspector": {
   "cols": {
    "lenName": 16,
    "lenType": 16,
    "lenVar": 40
   },
   "kernels_config": {
    "python": {
     "delete_cmd_postfix": "",
     "delete_cmd_prefix": "del ",
     "library": "var_list.py",
     "varRefreshCmd": "print(var_dic_list())"
    },
    "r": {
     "delete_cmd_postfix": ") ",
     "delete_cmd_prefix": "rm(",
     "library": "var_list.r",
     "varRefreshCmd": "cat(var_dic_list()) "
    }
   },
   "types_to_exclude": [
    "module",
    "function",
    "builtin_function_or_method",
    "instance",
    "_Feature"
   ],
   "window_display": false
  }
 },
 "nbformat": 4,
 "nbformat_minor": 5
}
