{
 "cells": [
  {
   "cell_type": "code",
   "execution_count": 1,
   "id": "ef95525a",
   "metadata": {
    "ExecuteTime": {
     "end_time": "2022-06-16T03:03:51.530110Z",
     "start_time": "2022-06-16T03:03:51.485998Z"
    }
   },
   "outputs": [],
   "source": [
    "%load_ext autoreload"
   ]
  },
  {
   "cell_type": "code",
   "execution_count": 2,
   "id": "9e26a541",
   "metadata": {
    "ExecuteTime": {
     "end_time": "2022-06-16T03:03:51.546160Z",
     "start_time": "2022-06-16T03:03:51.531103Z"
    }
   },
   "outputs": [],
   "source": [
    "%autoreload 2"
   ]
  },
  {
   "cell_type": "code",
   "execution_count": 3,
   "id": "9baa57a8",
   "metadata": {
    "ExecuteTime": {
     "end_time": "2022-06-16T03:03:51.894432Z",
     "start_time": "2022-06-16T03:03:51.548104Z"
    }
   },
   "outputs": [],
   "source": [
    "from numba import prange"
   ]
  },
  {
   "cell_type": "code",
   "execution_count": 29,
   "id": "4b598a9f-40b8-47df-b714-8c04d4d1a857",
   "metadata": {
    "ExecuteTime": {
     "end_time": "2022-06-16T03:06:38.599173Z",
     "start_time": "2022-06-16T03:06:38.545637Z"
    }
   },
   "outputs": [],
   "source": [
    "from Tic_Tac_Toe.Board import *\n",
    "from Tic_Tac_Toe.Game import *\n",
    "from Tic_Tac_Toe.Human_Player import *\n",
    "from Tic_Tac_Toe.Random_agent import RandomAgent\n",
    "\n",
    "from MCTS import MCTS\n",
    "from tqdm.notebook import tqdm_notebook"
   ]
  },
  {
   "cell_type": "code",
   "execution_count": 5,
   "id": "988a154f-1328-4c15-afd9-a37fd87a7b95",
   "metadata": {
    "ExecuteTime": {
     "end_time": "2022-06-16T03:03:52.004426Z",
     "start_time": "2022-06-16T03:03:51.958425Z"
    }
   },
   "outputs": [],
   "source": [
    "b = Board(3)"
   ]
  },
  {
   "cell_type": "code",
   "execution_count": 6,
   "id": "06fc8558-fac4-4b14-a853-b836908ab4f6",
   "metadata": {
    "ExecuteTime": {
     "end_time": "2022-06-16T03:03:52.051439Z",
     "start_time": "2022-06-16T03:03:52.005426Z"
    }
   },
   "outputs": [
    {
     "data": {
      "text/plain": [
       "array([[0., 0., 0.],\n",
       "       [0., 0., 0.],\n",
       "       [0., 0., 0.]])"
      ]
     },
     "execution_count": 6,
     "metadata": {},
     "output_type": "execute_result"
    }
   ],
   "source": [
    "b.get_state()"
   ]
  },
  {
   "cell_type": "code",
   "execution_count": 7,
   "id": "c01854a2",
   "metadata": {
    "ExecuteTime": {
     "end_time": "2022-06-16T03:03:52.099425Z",
     "start_time": "2022-06-16T03:03:52.052425Z"
    }
   },
   "outputs": [],
   "source": [
    "t = MCTS.MCTS_Node(b)"
   ]
  },
  {
   "cell_type": "code",
   "execution_count": 30,
   "id": "4ff2ff3e",
   "metadata": {
    "ExecuteTime": {
     "end_time": "2022-06-16T03:06:45.194785Z",
     "start_time": "2022-06-16T03:06:41.799786Z"
    }
   },
   "outputs": [
    {
     "data": {
      "application/vnd.jupyter.widget-view+json": {
       "model_id": "e71ba33c703b421cbc7ba1e4544c1c59",
       "version_major": 2,
       "version_minor": 0
      },
      "text/plain": [
       "  0%|          | 0/10 [00:00<?, ?it/s]"
      ]
     },
     "metadata": {},
     "output_type": "display_data"
    }
   ],
   "source": [
    "for _ in tqdm_notebook(prange(100)):\n",
    "    t.run(1000)"
   ]
  },
  {
   "cell_type": "code",
   "execution_count": 34,
   "id": "a25b0900",
   "metadata": {
    "ExecuteTime": {
     "end_time": "2022-06-16T03:07:00.000957Z",
     "start_time": "2022-06-16T03:06:59.949957Z"
    }
   },
   "outputs": [
    {
     "data": {
      "text/plain": [
       "[⏤⏤⏤⏤⏤\n",
       " O⏐-⏐-\n",
       " ⏤⏤⏤⏤⏤\n",
       " -⏐X⏐-\n",
       " ⏤⏤⏤⏤⏤\n",
       " -⏐-⏐-\n",
       " ⏤⏤⏤⏤⏤\n",
       " Value: 425.0\n",
       " Visits: 1000\n",
       " Probability: 1,\n",
       " ⏤⏤⏤⏤⏤\n",
       " -⏐O⏐-\n",
       " ⏤⏤⏤⏤⏤\n",
       " -⏐X⏐-\n",
       " ⏤⏤⏤⏤⏤\n",
       " -⏐-⏐-\n",
       " ⏤⏤⏤⏤⏤\n",
       " Value: 3885.0\n",
       " Visits: 7000\n",
       " Probability: 1,\n",
       " ⏤⏤⏤⏤⏤\n",
       " -⏐-⏐O\n",
       " ⏤⏤⏤⏤⏤\n",
       " -⏐X⏐-\n",
       " ⏤⏤⏤⏤⏤\n",
       " -⏐-⏐-\n",
       " ⏤⏤⏤⏤⏤\n",
       " Value: 437.0\n",
       " Visits: 1000\n",
       " Probability: 1,\n",
       " ⏤⏤⏤⏤⏤\n",
       " -⏐-⏐-\n",
       " ⏤⏤⏤⏤⏤\n",
       " O⏐X⏐-\n",
       " ⏤⏤⏤⏤⏤\n",
       " -⏐-⏐-\n",
       " ⏤⏤⏤⏤⏤\n",
       " Value: 2363.0\n",
       " Visits: 4000\n",
       " Probability: 1,\n",
       " ⏤⏤⏤⏤⏤\n",
       " -⏐-⏐-\n",
       " ⏤⏤⏤⏤⏤\n",
       " -⏐X⏐O\n",
       " ⏤⏤⏤⏤⏤\n",
       " -⏐-⏐-\n",
       " ⏤⏤⏤⏤⏤\n",
       " Value: 2758.0\n",
       " Visits: 5000\n",
       " Probability: 1,\n",
       " ⏤⏤⏤⏤⏤\n",
       " -⏐-⏐-\n",
       " ⏤⏤⏤⏤⏤\n",
       " -⏐X⏐-\n",
       " ⏤⏤⏤⏤⏤\n",
       " O⏐-⏐-\n",
       " ⏤⏤⏤⏤⏤\n",
       " Value: 431.0\n",
       " Visits: 1000\n",
       " Probability: 1,\n",
       " ⏤⏤⏤⏤⏤\n",
       " -⏐-⏐-\n",
       " ⏤⏤⏤⏤⏤\n",
       " -⏐X⏐-\n",
       " ⏤⏤⏤⏤⏤\n",
       " -⏐O⏐-\n",
       " ⏤⏤⏤⏤⏤\n",
       " Value: 1451.0\n",
       " Visits: 3000\n",
       " Probability: 1,\n",
       " ⏤⏤⏤⏤⏤\n",
       " -⏐-⏐-\n",
       " ⏤⏤⏤⏤⏤\n",
       " -⏐X⏐-\n",
       " ⏤⏤⏤⏤⏤\n",
       " -⏐-⏐O\n",
       " ⏤⏤⏤⏤⏤\n",
       " Value: 453.0\n",
       " Visits: 1000\n",
       " Probability: 1]"
      ]
     },
     "execution_count": 34,
     "metadata": {},
     "output_type": "execute_result"
    }
   ],
   "source": [
    "t.children[4].children"
   ]
  },
  {
   "cell_type": "code",
   "execution_count": null,
   "id": "34ae6aac",
   "metadata": {},
   "outputs": [],
   "source": []
  }
 ],
 "metadata": {
  "kernelspec": {
   "display_name": "Python 3 (ipykernel)",
   "language": "python",
   "name": "python3"
  },
  "language_info": {
   "codemirror_mode": {
    "name": "ipython",
    "version": 3
   },
   "file_extension": ".py",
   "mimetype": "text/x-python",
   "name": "python",
   "nbconvert_exporter": "python",
   "pygments_lexer": "ipython3",
   "version": "3.9.7"
  },
  "varInspector": {
   "cols": {
    "lenName": 16,
    "lenType": 16,
    "lenVar": 40
   },
   "kernels_config": {
    "python": {
     "delete_cmd_postfix": "",
     "delete_cmd_prefix": "del ",
     "library": "var_list.py",
     "varRefreshCmd": "print(var_dic_list())"
    },
    "r": {
     "delete_cmd_postfix": ") ",
     "delete_cmd_prefix": "rm(",
     "library": "var_list.r",
     "varRefreshCmd": "cat(var_dic_list()) "
    }
   },
   "types_to_exclude": [
    "module",
    "function",
    "builtin_function_or_method",
    "instance",
    "_Feature"
   ],
   "window_display": false
  }
 },
 "nbformat": 4,
 "nbformat_minor": 5
}
